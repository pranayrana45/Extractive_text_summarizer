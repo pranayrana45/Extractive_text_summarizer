{
 "cells": [
  {
   "cell_type": "markdown",
   "metadata": {},
   "source": [
    "# EXTRACTIVE TEXT SUMMERIZER"
   ]
  },
  {
   "cell_type": "markdown",
   "metadata": {},
   "source": [
    "### IMPORTING REQUIRED LIBRARIES "
   ]
  },
  {
   "cell_type": "code",
   "execution_count": 1,
   "metadata": {},
   "outputs": [
    {
     "name": "stderr",
     "output_type": "stream",
     "text": [
      "[nltk_data] Downloading package punkt to\n",
      "[nltk_data]     C:\\Users\\prana\\AppData\\Roaming\\nltk_data...\n",
      "[nltk_data]   Package punkt is already up-to-date!\n"
     ]
    },
    {
     "data": {
      "text/plain": [
       "True"
      ]
     },
     "execution_count": 1,
     "metadata": {},
     "output_type": "execute_result"
    }
   ],
   "source": [
    "import nltk\n",
    "from nltk.tokenize import sent_tokenize\n",
    "from sklearn.feature_extraction.text import TfidfVectorizer\n",
    "import numpy as np\n",
    "nltk.download('punkt')"
   ]
  },
  {
   "cell_type": "code",
   "execution_count": 2,
   "metadata": {},
   "outputs": [],
   "source": [
    "text_corpus = \"\"\"One day, Molly the milkmaid had filled her pails with milk. Her job was to milk the cows, and then bring the milk to the market to sell. Molly loved to think about what to spend her money on.\n",
    "As she filled the pails with milk and went to market, she again thought of all the things she wanted to buy. As she walked along the road, she thought of buying a cake and a basket full of fresh strawberries.\n",
    "A little further down the road, she spotted a chicken. She thought, “With the money I get from today, I’m going to buy a chicken of my own. That chicken will lay eggs, then I will be able to sell milk and eggs and get more money!”\n",
    "She continued, “With more money, I will be able to buy a fancy dress and make all the other milkmaids jealous.” Out of excitement, Molly started skipping, forgetting about the milk in her pails. Soon, the milk started spilling over the edges, covering Molly.\n",
    "Drenched, Molly said to herself, “Oh no! I will never have enough money to buy a chicken now.” She went home with her empty pails.\n",
    "“Oh, my goodness! What happened to you?” Molly’s mother asked.\n",
    "“I was too busy dreaming about all the things I wanted to buy that I forgot about the pails,” she answered.\n",
    "“Oh, Molly, my dear. How many times do I need to say, ‘Don’t count your chickens until they hatch?’”\n",
    "The Moral\n",
    "Don’t count your chickens before they hatch.\"\"\""
   ]
  },
  {
   "cell_type": "markdown",
   "metadata": {},
   "source": [
    "### SENTENCE LEVEL TOKENIZATION"
   ]
  },
  {
   "cell_type": "code",
   "execution_count": 3,
   "metadata": {},
   "outputs": [],
   "source": [
    "text_corp = text_corpus.replace(\"\\\\r\\\\n\", \"\")\n",
    "sentences = sent_tokenize(text_corp)"
   ]
  },
  {
   "cell_type": "code",
   "execution_count": 4,
   "metadata": {},
   "outputs": [
    {
     "name": "stdout",
     "output_type": "stream",
     "text": [
      "Senetence are: \n",
      " ['One day, Molly the milkmaid had filled her pails with milk.', 'Her job was to milk the cows, and then bring the milk to the market to sell.', 'Molly loved to think about what to spend her money on.', 'As she filled the pails with milk and went to market, she again thought of all the things she wanted to buy.', 'As she walked along the road, she thought of buying a cake and a basket full of fresh strawberries.', 'A little further down the road, she spotted a chicken.', 'She thought, “With the money I get from today, I’m going to buy a chicken of my own.', 'That chicken will lay eggs, then I will be able to sell milk and eggs and get more money!”\\nShe continued, “With more money, I will be able to buy a fancy dress and make all the other milkmaids jealous.” Out of excitement, Molly started skipping, forgetting about the milk in her pails.', 'Soon, the milk started spilling over the edges, covering Molly.', 'Drenched, Molly said to herself, “Oh no!', 'I will never have enough money to buy a chicken now.” She went home with her empty pails.', '“Oh, my goodness!', 'What happened to you?” Molly’s mother asked.', '“I was too busy dreaming about all the things I wanted to buy that I forgot about the pails,” she answered.', '“Oh, Molly, my dear.', 'How many times do I need to say, ‘Don’t count your chickens until they hatch?’”\\nThe Moral\\nDon’t count your chickens before they hatch.']\n"
     ]
    }
   ],
   "source": [
    "#Peeking into our tokenized sentences\n",
    "print(\"Senetence are: \\n\", sentences)"
   ]
  },
  {
   "cell_type": "markdown",
   "metadata": {},
   "source": [
    "### CREATING SENTENCE ORGANIZER"
   ]
  },
  {
   "cell_type": "code",
   "execution_count": 5,
   "metadata": {},
   "outputs": [],
   "source": [
    "sentence_organizer = {k:v for v,k in enumerate(sentences)}"
   ]
  },
  {
   "cell_type": "code",
   "execution_count": 6,
   "metadata": {},
   "outputs": [
    {
     "name": "stdout",
     "output_type": "stream",
     "text": [
      "Our sentence organizer: \n",
      " {'One day, Molly the milkmaid had filled her pails with milk.': 0, 'Her job was to milk the cows, and then bring the milk to the market to sell.': 1, 'Molly loved to think about what to spend her money on.': 2, 'As she filled the pails with milk and went to market, she again thought of all the things she wanted to buy.': 3, 'As she walked along the road, she thought of buying a cake and a basket full of fresh strawberries.': 4, 'A little further down the road, she spotted a chicken.': 5, 'She thought, “With the money I get from today, I’m going to buy a chicken of my own.': 6, 'That chicken will lay eggs, then I will be able to sell milk and eggs and get more money!”\\nShe continued, “With more money, I will be able to buy a fancy dress and make all the other milkmaids jealous.” Out of excitement, Molly started skipping, forgetting about the milk in her pails.': 7, 'Soon, the milk started spilling over the edges, covering Molly.': 8, 'Drenched, Molly said to herself, “Oh no!': 9, 'I will never have enough money to buy a chicken now.” She went home with her empty pails.': 10, '“Oh, my goodness!': 11, 'What happened to you?” Molly’s mother asked.': 12, '“I was too busy dreaming about all the things I wanted to buy that I forgot about the pails,” she answered.': 13, '“Oh, Molly, my dear.': 14, 'How many times do I need to say, ‘Don’t count your chickens until they hatch?’”\\nThe Moral\\nDon’t count your chickens before they hatch.': 15}\n"
     ]
    }
   ],
   "source": [
    "print(\"Our sentence organizer: \\n\", sentence_organizer)"
   ]
  },
  {
   "cell_type": "markdown",
   "metadata": {},
   "source": [
    "### CREATING TF-IDF MODEL"
   ]
  },
  {
   "cell_type": "code",
   "execution_count": 7,
   "metadata": {},
   "outputs": [],
   "source": [
    "# Let's now create a tf-idf (Term frequnecy Inverse Document Frequency) model\n",
    "tf_idf_vectorizer = TfidfVectorizer(min_df=2,  max_features=None, \n",
    "                                    strip_accents='unicode', \n",
    "                                    analyzer='word',\n",
    "                                    token_pattern=r'\\w{1,}',\n",
    "                                    ngram_range=(1, 3), \n",
    "                                    use_idf=1,smooth_idf=1,\n",
    "                                    sublinear_tf=1,\n",
    "                                    stop_words = 'english')"
   ]
  },
  {
   "cell_type": "code",
   "execution_count": 8,
   "metadata": {},
   "outputs": [
    {
     "data": {
      "text/plain": [
       "TfidfVectorizer(min_df=2, ngram_range=(1, 3), smooth_idf=1,\n",
       "                stop_words='english', strip_accents='unicode', sublinear_tf=1,\n",
       "                token_pattern='\\\\w{1,}', use_idf=1)"
      ]
     },
     "execution_count": 8,
     "metadata": {},
     "output_type": "execute_result"
    }
   ],
   "source": [
    "# Passing our sentences treating each as one document to TF-IDF vectorizer\n",
    "tf_idf_vectorizer.fit(sentences)"
   ]
  },
  {
   "cell_type": "code",
   "execution_count": 9,
   "metadata": {},
   "outputs": [],
   "source": [
    "# Transforming our sentences to TF-IDF vectors\n",
    "sentence_vectors = tf_idf_vectorizer.transform(sentences)"
   ]
  },
  {
   "cell_type": "markdown",
   "metadata": {},
   "source": [
    "### PERFORMING SENTENCE SCORING"
   ]
  },
  {
   "cell_type": "code",
   "execution_count": 10,
   "metadata": {},
   "outputs": [
    {
     "name": "stdout",
     "output_type": "stream",
     "text": [
      "True\n"
     ]
    }
   ],
   "source": [
    "# Getting sentence scores for each sentences\n",
    "sentence_scores = np.array(sentence_vectors.sum(axis=1)).ravel()\n",
    "\n",
    "# Sanity checkup\n",
    "print(len(sentences) == len(sentence_scores))"
   ]
  },
  {
   "cell_type": "code",
   "execution_count": 11,
   "metadata": {},
   "outputs": [],
   "source": [
    "# Getting top-n sentences\n",
    "N = int(len(sentences)/3) + 1\n",
    "top_n_sentences = [sentences[ind] for ind in np.argsort(sentence_scores, axis=0)[::-1][:N]]"
   ]
  },
  {
   "cell_type": "markdown",
   "metadata": {},
   "source": [
    "### PERFORMING FINAL SUMMERIZATION"
   ]
  },
  {
   "cell_type": "code",
   "execution_count": 12,
   "metadata": {},
   "outputs": [
    {
     "name": "stdout",
     "output_type": "stream",
     "text": [
      "Our top_n_sentence with their index: \n",
      "\n",
      "('As she filled the pails with milk and went to market, she again thought of all the things she wanted to buy.', 3)\n",
      "('That chicken will lay eggs, then I will be able to sell milk and eggs and get more money!”\\nShe continued, “With more money, I will be able to buy a fancy dress and make all the other milkmaids jealous.” Out of excitement, Molly started skipping, forgetting about the milk in her pails.', 7)\n",
      "('“I was too busy dreaming about all the things I wanted to buy that I forgot about the pails,” she answered.', 13)\n",
      "('One day, Molly the milkmaid had filled her pails with milk.', 0)\n",
      "('I will never have enough money to buy a chicken now.” She went home with her empty pails.', 10)\n",
      "('She thought, “With the money I get from today, I’m going to buy a chicken of my own.', 6)\n",
      "('Her job was to milk the cows, and then bring the milk to the market to sell.', 1)\n"
     ]
    }
   ],
   "source": [
    "# Let's now do the sentence ordering using our prebaked sentence_organizer\n",
    "# Let's map the scored sentences with their indexes\n",
    "mapped_top_n_sentences = [(sentence,sentence_organizer[sentence]) for sentence in top_n_sentences]\n",
    "print(\"Our top_n_sentence with their index: \\n\")\n",
    "for element in mapped_top_n_sentences:\n",
    "    print(element)\n",
    "\n",
    "# Ordering our top-n sentences in their original ordering\n",
    "mapped_top_n_sentences = sorted(mapped_top_n_sentences, key = lambda x: x[1])\n",
    "ordered_scored_sentences = [element[0] for element in mapped_top_n_sentences]\n",
    "\n",
    "# Our final summary\n",
    "summary = \" \".join(ordered_scored_sentences)"
   ]
  },
  {
   "cell_type": "markdown",
   "metadata": {},
   "source": [
    "## RESULT/SUMMARY"
   ]
  },
  {
   "cell_type": "code",
   "execution_count": 13,
   "metadata": {},
   "outputs": [
    {
     "name": "stdout",
     "output_type": "stream",
     "text": [
      "Summary: \n",
      " One day, Molly the milkmaid had filled her pails with milk. Her job was to milk the cows, and then bring the milk to the market to sell. As she filled the pails with milk and went to market, she again thought of all the things she wanted to buy. She thought, “With the money I get from today, I’m going to buy a chicken of my own. That chicken will lay eggs, then I will be able to sell milk and eggs and get more money!”\n",
      "She continued, “With more money, I will be able to buy a fancy dress and make all the other milkmaids jealous.” Out of excitement, Molly started skipping, forgetting about the milk in her pails. I will never have enough money to buy a chicken now.” She went home with her empty pails. “I was too busy dreaming about all the things I wanted to buy that I forgot about the pails,” she answered.\n"
     ]
    }
   ],
   "source": [
    "print(\"Summary: \\n\", summary)"
   ]
  },
  {
   "cell_type": "code",
   "execution_count": 14,
   "metadata": {},
   "outputs": [],
   "source": [
    "def summarizer(text, tokenizer):\n",
    "    text_corp = text_corpus.replace(\"\\\\r\\\\n\", \"\")\n",
    "    sentences = sent_tokenize(text_corp)\n",
    "    # Let's create an organizer which will store the sentence ordering to later reorganize the \n",
    "    # scored sentences in their correct order\n",
    "    sentence_organizer = {k:v for v,k in enumerate(sentences)}\n",
    "    # Let's now create a tf-idf (Term frequnecy Inverse Document Frequency) model\n",
    "    tf_idf_vectorizer = TfidfVectorizer(min_df=2,  max_features=None, \n",
    "                                        strip_accents='unicode', \n",
    "                                        analyzer='word',\n",
    "                                        token_pattern=r'\\w{1,}',\n",
    "                                        ngram_range=(1, 3), \n",
    "                                        use_idf=1,smooth_idf=1,\n",
    "                                        sublinear_tf=1,\n",
    "                                        stop_words = 'english')\n",
    "    # Passing our sentences treating each as one document to TF-IDF vectorizer\n",
    "    tf_idf_vectorizer.fit(sentences)\n",
    "    # Transforming our sentences to TF-IDF vectors\n",
    "    sentence_vectors = tf_idf_vectorizer.transform(sentences)\n",
    "    # Getting sentence scores for each sentences\n",
    "    sentence_scores = np.array(sentence_vectors.sum(axis=1)).ravel()\n",
    "    # Getting top-n sentences\n",
    "    N = int(len(sentences)/3) + 1\n",
    "    top_n_sentences = [sentences[ind] for ind in np.argsort(sentence_scores, axis=0)[::-1][:N]]\n",
    "    # Let's now do the sentence ordering using our prebaked sentence_organizer\n",
    "    # Let's map the scored sentences with their indexes\n",
    "    mapped_top_n_sentences = [(sentence,sentence_organizer[sentence]) for sentence in top_n_sentences]\n",
    "    # Ordering our top-n sentences in their original ordering\n",
    "    mapped_top_n_sentences = sorted(mapped_top_n_sentences, key = lambda x: x[1])\n",
    "    ordered_scored_sentences = [element[0] for element in mapped_top_n_sentences]\n",
    "    # Our final summary\n",
    "    summary = \" \".join(ordered_scored_sentences)\n",
    "    return summary"
   ]
  },
  {
   "cell_type": "code",
   "execution_count": 17,
   "metadata": {},
   "outputs": [
    {
     "name": "stdout",
     "output_type": "stream",
     "text": [
      "Summary : \n",
      " One day, Molly the milkmaid had filled her pails with milk. As she filled the pails with milk and went to market, she again thought of all the things she wanted to buy. She thought, “With the money I get from today, I’m going to buy a chicken of my own. That chicken will lay eggs, then I will be able to sell milk and eggs and get more money!”\n",
      "She continued, “With more money, I will be able to buy a fancy dress and make all the other milkmaids jealous.” Out of excitement, Molly started skipping, forgetting about the milk in her pails. I will never have enough money to buy a chicken now.” She went home with her empty pails. “I was too busy dreaming about all the things I wanted to buy that I forgot about the pails,” she answered.\n"
     ]
    }
   ],
   "source": [
    "print(\"Summary : \\n\" , summarizer(text = text_corpus,tokenizer = nltk))"
   ]
  },
  {
   "cell_type": "code",
   "execution_count": null,
   "metadata": {},
   "outputs": [],
   "source": []
  }
 ],
 "metadata": {
  "kernelspec": {
   "display_name": "Python 3",
   "language": "python",
   "name": "python3"
  },
  "language_info": {
   "codemirror_mode": {
    "name": "ipython",
    "version": 3
   },
   "file_extension": ".py",
   "mimetype": "text/x-python",
   "name": "python",
   "nbconvert_exporter": "python",
   "pygments_lexer": "ipython3",
   "version": "3.8.6"
  }
 },
 "nbformat": 4,
 "nbformat_minor": 4
}
